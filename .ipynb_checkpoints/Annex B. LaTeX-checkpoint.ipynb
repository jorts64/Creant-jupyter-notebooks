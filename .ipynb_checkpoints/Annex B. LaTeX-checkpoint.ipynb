{
 "cells": [
  {
   "cell_type": "markdown",
   "metadata": {},
   "source": [
    "# $\\LaTeX$"
   ]
  },
  {
   "cell_type": "markdown",
   "metadata": {},
   "source": [
    "Markdown admet directament $\\LaTeX$, si posem el codi entre simbols `$`. \n",
    "\n",
    "Si volem fer un bloc $\\LaTeX$ el posarem entre dobles simbols `$$` \n",
    "\n",
    "Així el text següent:"
   ]
  },
  {
   "cell_type": "markdown",
   "metadata": {},
   "source": [
    "`$\\int_{a}^b f(x)dx = F(b) - F (a)$`"
   ]
  },
  {
   "cell_type": "markdown",
   "metadata": {},
   "source": [
    "a una cel·la de format Markdown el veuriem així"
   ]
  },
  {
   "cell_type": "markdown",
   "metadata": {},
   "source": [
    "$\\int_{a}^b f(x)dx = F(b) - F (a)$"
   ]
  },
  {
   "cell_type": "markdown",
   "metadata": {},
   "source": [
    "O, si fem servir un bloc:"
   ]
  },
  {
   "cell_type": "markdown",
   "metadata": {},
   "source": [
    "`$$\\int_{a}^b f(x)dx = F(b) - F (a)$$`"
   ]
  },
  {
   "cell_type": "markdown",
   "metadata": {},
   "source": [
    "així:"
   ]
  },
  {
   "cell_type": "markdown",
   "metadata": {},
   "source": [
    "$$\\int_{a}^b f(x)dx = F(b) - F (a)$$"
   ]
  },
  {
   "cell_type": "markdown",
   "metadata": {},
   "source": [
    "Si no coneixeu la codificació $\\LaTeX$, us recomano la guía Markdown i $\\LaTeX$ per a jupyter: https://towardsdatascience.com/write-markdown-latex-in-the-jupyter-notebook-10985edb91fd.\n",
    "\n",
    "També és molt útil un editor $\\LaTeX$ en línia, com el que trobem a https://latexeditor.lagrida.com/\n",
    "\n",
    "Amb aquest editor ha estat molt fàcil aquest altre exemple:"
   ]
  },
  {
   "cell_type": "markdown",
   "metadata": {},
   "source": [
    "$x(t) = x_{0} + v_{0}\\cdot t+\\frac{1}{2}\\cdot a\\cdot t^{2} $\n",
    "\n",
    "$v(t) = v_{0} + a\\cdot t$\n",
    "\n",
    "$a(t) = ct$"
   ]
  },
  {
   "cell_type": "markdown",
   "metadata": {},
   "source": [
    "Encara que de vegades trobem a faltar símbols a aquest editor, com en el cas de la derivada temporal $\\dot{m}$"
   ]
  },
  {
   "cell_type": "markdown",
   "metadata": {},
   "source": [
    "$\\overrightarrow{F} = \\frac{\\Delta\\overrightarrow{p}}{\\Delta t}\\equiv \\frac{\\Delta(m\\cdot \\overrightarrow{v})}{\\Delta t}=\\frac{\\Delta m}{\\Delta t}\\cdot \\overrightarrow{v}+m\\cdot \\frac{\\Delta \\overrightarrow{v}}{\\Delta t}=\\dot{m}\\cdot \\overrightarrow{v}+m\\cdot \\overrightarrow{a}$"
   ]
  },
  {
   "cell_type": "markdown",
   "metadata": {},
   "source": [
    "En aquest cas podeu sempre consultar a la Internet qualsevol de les moltes referències existents, com ara a la Wikipedia https://en.wikipedia.org/wiki/Wikipedia:LaTeX_symbols"
   ]
  },
  {
   "cell_type": "markdown",
   "metadata": {},
   "source": [
    "També podem visualitzar exprexions $\\LaTeX$ amb `%%latex` a una cel·la Python, encara que no podrem amagar el codi $\\LaTeX$:"
   ]
  },
  {
   "cell_type": "code",
   "execution_count": 14,
   "metadata": {},
   "outputs": [
    {
     "data": {
      "text/latex": [
       "\\begin{align}\n",
       "x(t) = x_{0} + v_{0}\\cdot t+\\frac{1}{2}\\cdot a\\cdot t^{2} \\\\\n",
       "v(t) = v_{0} + a\\cdot t\\\\\n",
       "a(t) = ct\n",
       "\\end{align}\n"
      ],
      "text/plain": [
       "<IPython.core.display.Latex object>"
      ]
     },
     "metadata": {},
     "output_type": "display_data"
    }
   ],
   "source": [
    "%%latex\n",
    "\\begin{align}\n",
    "x(t) = x_{0} + v_{0}\\cdot t+\\frac{1}{2}\\cdot a\\cdot t^{2} \\\\\n",
    "v(t) = v_{0} + a\\cdot t\\\\\n",
    "a(t) = ct\n",
    "\\end{align}"
   ]
  },
  {
   "cell_type": "markdown",
   "metadata": {},
   "source": [
    "Molt interessant la possibilitat d'utilitzar el sistema de tancar el codi $\\LaTeX$ entre símbols `$` per afegir fòrmules a les gràfiques:"
   ]
  },
  {
   "cell_type": "code",
   "execution_count": 17,
   "metadata": {},
   "outputs": [
    {
     "data": {
      "image/png": "[encoded data removed]",
      "text/plain": [
       "<Figure size 432x288 with 1 Axes>"
      ]
     },
     "metadata": {
      "needs_background": "light"
     },
     "output_type": "display_data"
    }
   ],
   "source": [
    "# %load http://matplotlib.org/mpl_examples/showcase/integral_demo.py\n",
    "\"\"\"\n",
    "Plot demonstrating the integral as the area under a curve.\n",
    "\n",
    "Although this is a simple example, it demonstrates some important tweaks:\n",
    "\n",
    "    * A simple line plot with custom color and line width.\n",
    "    * A shaded region created using a Polygon patch.\n",
    "    * A text label with mathtext rendering.\n",
    "    * figtext calls to label the x- and y-axes.\n",
    "    * Use of axis spines to hide the top and right spines.\n",
    "    * Custom tick placement and labels.\n",
    "\"\"\"\n",
    "import numpy as np\n",
    "import matplotlib.pyplot as plt\n",
    "from matplotlib.patches import Polygon\n",
    "\n",
    "\n",
    "def func(x):\n",
    "    return (x - 3) * (x - 5) * (x - 7) + 85\n",
    "\n",
    "\n",
    "a, b = 2, 9  # integral limits\n",
    "x = np.linspace(0, 10)\n",
    "y = func(x)\n",
    "\n",
    "fig, ax = plt.subplots()\n",
    "plt.plot(x, y, 'r', linewidth=2)\n",
    "plt.ylim(ymin=0)\n",
    "\n",
    "# Make the shaded region\n",
    "ix = np.linspace(a, b)\n",
    "iy = func(ix)\n",
    "verts = [(a, 0)] + list(zip(ix, iy)) + [(b, 0)]\n",
    "poly = Polygon(verts, facecolor='0.9', edgecolor='0.5')\n",
    "ax.add_patch(poly)\n",
    "\n",
    "plt.text(0.5 * (a + b), 30, r\"$\\int_a^b f(x)\\mathrm{d}x$\",\n",
    "         horizontalalignment='center', fontsize=20)\n",
    "\n",
    "plt.figtext(0.9, 0.05, '$x$')\n",
    "plt.figtext(0.1, 0.9, '$y$')\n",
    "\n",
    "ax.spines['right'].set_visible(False)\n",
    "ax.spines['top'].set_visible(False)\n",
    "ax.xaxis.set_ticks_position('bottom')\n",
    "\n",
    "ax.set_xticks((a, b))\n",
    "ax.set_xticklabels(('$a$', '$b$'))\n",
    "ax.set_yticks([])\n",
    "\n",
    "plt.show()\n"
   ]
  }
 ],
 "metadata": {
  "kernelspec": {
   "display_name": "Python 3",
   "language": "python",
   "name": "python3"
  },
  "language_info": {
   "codemirror_mode": {
    "name": "ipython",
    "version": 3
   },
   "file_extension": ".py",
   "mimetype": "text/x-python",
   "name": "python",
   "nbconvert_exporter": "python",
   "pygments_lexer": "ipython3",
   "version": "3.7.3"
  }
 },
 "nbformat": 4,
 "nbformat_minor": 4
}
