{
 "cells": [
  {
   "cell_type": "markdown",
   "metadata": {},
   "source": [
    "# Càlcul científic amb Python"
   ]
  },
  {
   "cell_type": "markdown",
   "metadata": {},
   "source": [
    "No pretenc fer un curs ràpid de Python, ni de Python científic. Només animar-vos a considerar aquest llenguatge per a les vostres classes de Tecnologia, Matemàtiques, Física o Química, especialment a Batxillerat. Penseu que al meu centre portem ja 2 anys treballant Python a 3r d'ESO amb uns resultats sorprenents, tal com us vam explicar a la Jornada Programa del 22 de maig de 2020 `#JPRE20` en aquest video:"
   ]
  },
  {
   "cell_type": "code",
   "execution_count": 1,
   "metadata": {},
   "outputs": [
    {
     "data": {
      "image/jpeg": "[encoded data removed]",
      "text/html": [
       "\n",
       "        <iframe\n",
       "            width=\"400\"\n",
       "            height=\"300\"\n",
       "            src=\"https://www.youtube.com/embed/vikpbXWkCp8\"\n",
       "            frameborder=\"0\"\n",
       "            allowfullscreen\n",
       "        ></iframe>\n",
       "        "
      ],
      "text/plain": [
       "<IPython.lib.display.YouTubeVideo at 0xb42c47ac>"
      ]
     },
     "execution_count": 1,
     "metadata": {},
     "output_type": "execute_result"
    }
   ],
   "source": [
    "from IPython.display import YouTubeVideo\n",
    "YouTubeVideo('vikpbXWkCp8')"
   ]
  },
  {
   "cell_type": "markdown",
   "metadata": {},
   "source": [
    "Trobareu molts cursos a la Internet de Python, fins i tot en català, com aquest curs a l'Odissea https://odissea.xtec.cat/course/view.php?id=48022 (que malhauradament no permet la inscripció amb clau XTEC).\n",
    "\n",
    "Us recomano especialment la documentació, en anglès, de W3Schools: https://www.w3schools.com/python/default.asp"
   ]
  },
  {
   "cell_type": "markdown",
   "metadata": {},
   "source": [
    "També és molt interessant el llibre gratuït *Modeling and Simulation in Python*, disponible a https://greenteapress.com/wp/modsimpy/, on l'autor utilitza precissament *jupyter notebook*, amb tots els codis a https://github.com/AllenDowney/ModSimPy i que es poden treballar en línia: [![Binder](https://mybinder.org/badge.svg)](https://mybinder.org/v2/gh/AllenDowney/ModSimPy/master?filepath=notebooks)"
   ]
  },
  {
   "cell_type": "markdown",
   "metadata": {},
   "source": [
    "## Documenteu el vostre codi"
   ]
  },
  {
   "cell_type": "markdown",
   "metadata": {},
   "source": [
    "És important sempre documentar el codi. Si feu una llibreria pròpia, podeu seguir els suggeriments del capítol 5.4 de *Programing for Computations* de S. Linge and H.P. Langtangen. Una bona llibreria ha de donar ajuda per saber com cridar cada funció i tenir una aplicació com a exemple. Fixeu-vos en el seu exemple *vertical_motion.py* :"
   ]
  },
  {
   "cell_type": "code",
   "execution_count": 2,
   "metadata": {},
   "outputs": [],
   "source": [
    "import vertical_motion"
   ]
  },
  {
   "cell_type": "code",
   "execution_count": 3,
   "metadata": {},
   "outputs": [
    {
     "name": "stdout",
     "output_type": "stream",
     "text": [
      "Help on module vertical_motion:\n",
      "\n",
      "NAME\n",
      "    vertical_motion\n",
      "\n",
      "DESCRIPTION\n",
      "    Module for computing vertical motion\n",
      "    characteristics for a projectile.\n",
      "\n",
      "FUNCTIONS\n",
      "    application()\n",
      "    \n",
      "    max_height(v0)\n",
      "        Compute maximum height reached, given the initial vertical\n",
      "        velocity v0. Assume negligible air resistance.\n",
      "    \n",
      "    time_of_flight(v0)\n",
      "        Compute time in the air, given the initial vertical\n",
      "        velocity v0. Assume negligible air resistance.\n",
      "    \n",
      "    y(v0, t)\n",
      "        Compute vertical position at time t, given the initial vertical\n",
      "        velocity v0. Assume negligible air resistance.\n",
      "\n",
      "FILE\n",
      "    /home/jordi/jupyter/Creant-jupyter-notebooks/vertical_motion.py\n",
      "\n",
      "\n"
     ]
    }
   ],
   "source": [
    "help(vertical_motion)"
   ]
  },
  {
   "cell_type": "markdown",
   "metadata": {},
   "source": [
    "## Optimitzeu el vostre codi"
   ]
  },
  {
   "cell_type": "markdown",
   "metadata": {},
   "source": [
    "Si feu un projecte que necessita molt temps de càlcul, el podem accelerar utilitzant tècniques avançades. Us pot ser util el document *Annex D. Accelerant el càlcul científic* on comento algunes d'elles, com ara\n",
    "- Vectoritzar els càlculs\n",
    "- Utilitzar una versió compilada en C de les funcions amb més temps de càlcul\n",
    "- Utiltzar computació en paral·lel amb un cluster d'ordinadors"
   ]
  },
  {
   "cell_type": "code",
   "execution_count": null,
   "metadata": {},
   "outputs": [],
   "source": []
  }
 ],
 "metadata": {
  "kernelspec": {
   "display_name": "Python 3",
   "language": "python",
   "name": "python3"
  },
  "language_info": {
   "codemirror_mode": {
    "name": "ipython",
    "version": 3
   },
   "file_extension": ".py",
   "mimetype": "text/x-python",
   "name": "python",
   "nbconvert_exporter": "python",
   "pygments_lexer": "ipython3",
   "version": "3.7.3"
  }
 },
 "nbformat": 4,
 "nbformat_minor": 4
}
