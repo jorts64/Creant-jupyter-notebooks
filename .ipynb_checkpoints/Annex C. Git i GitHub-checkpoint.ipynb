{
 "cells": [
  {
   "cell_type": "markdown",
   "metadata": {},
   "source": [
    "# Git i GitHub"
   ]
  },
  {
   "cell_type": "markdown",
   "metadata": {},
   "source": [
    "> Git és un programari de sistema de control de versions dissenyat per Linus Torvalds, pensat en l'eficiència i confiabilitat de manteniment de versions d'aplicacions amb una enorme quantitat de fitxers de codi font. \n",
    "\n",
    "*Col·laboradors de la Viquipèdia. Git [en línia]. Viquipèdia, l'Enciclopèdia Lliure, 2020 [data de consulta: 6 de juliol del 2020]. Disponible en <//ca.wikipedia.org/w/index.php?title=Git&oldid=23991877>.*\n",
    "\n",
    "> GitHub és un servei de hosting de repositoris Git, el qual ofereix tota la funcionalitat de Git de control de revisió distribuït i administració de codi de la font (SCM) així com afegint les seves característiques pròpies. A diferència de Git, el qual és estrictament una eina de línia d'ordres, GitHub proporciona una interfície gràfica basada en web i escriptori així com integració del mòbil. També proporciona control d'accés i diverses característiques de col·laboració com bug tracking, administració de tasques, i wikis per cada projecte.\n",
    "\n",
    "*Col·laboradors de la Viquipèdia. GitHub [en línia]. Viquipèdia, l'Enciclopèdia Lliure, 2020 [data de consulta: 16 de maig del 2020]. Disponible en <//ca.wikipedia.org/w/index.php?title=GitHub&oldid=23546415>.*"
   ]
  },
  {
   "cell_type": "markdown",
   "metadata": {},
   "source": [
    "A http://rogerdudler.github.io/git-guide/ trobarem una guía molt senzilla sobre el treball amb *GitHub* amb *git*\n",
    "\n",
    "trobareu una explicació més detallada a https://blog.desdelinux.net/guia-rapida-para-utilizar-github/"
   ]
  },
  {
   "cell_type": "markdown",
   "metadata": {},
   "source": [
    "Aquest tutorial en català de *git* és molt recomanable: https://ca.wikibooks.org/wiki/Tutorial_de_git"
   ]
  },
  {
   "cell_type": "code",
   "execution_count": null,
   "metadata": {},
   "outputs": [],
   "source": []
  }
 ],
 "metadata": {
  "kernelspec": {
   "display_name": "Python 3",
   "language": "python",
   "name": "python3"
  },
  "language_info": {
   "codemirror_mode": {
    "name": "ipython",
    "version": 3
   },
   "file_extension": ".py",
   "mimetype": "text/x-python",
   "name": "python",
   "nbconvert_exporter": "python",
   "pygments_lexer": "ipython3",
   "version": "3.7.3"
  }
 },
 "nbformat": 4,
 "nbformat_minor": 4
}
