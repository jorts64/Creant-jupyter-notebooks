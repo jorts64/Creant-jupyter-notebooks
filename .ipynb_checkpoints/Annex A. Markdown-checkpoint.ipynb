{
 "cells": [
  {
   "cell_type": "markdown",
   "metadata": {},
   "source": [
    "# Markdown"
   ]
  },
  {
   "cell_type": "markdown",
   "metadata": {},
   "source": [
    "> Markdown és un llenguatge de marques lleuger, originalment creat per John Gruber i Aaron Swartz que permet \"escriure utilitzant un format de text pla fàcil d'escriure i de llegir i després convertir-ho en un XHTML o HTML estructuralment vàlid\". El llenguatge té moltes similituds amb les convencions que ja existeixen a l'hora de formatar text pla en correus electrònics. \n",
    "\n",
    "*Col·laboradors de la Viquipèdia. Markdown [en línia]. Viquipèdia, l'Enciclopèdia Lliure, 2020 [data de consulta: 27 de juliol del 2020]. Disponible en <//ca.wikipedia.org/w/index.php?title=Markdown&oldid=24294813>.*"
   ]
  },
  {
   "cell_type": "markdown",
   "metadata": {},
   "source": [
    "Amb la tecla **`M`** podem convertitr una cel·la en markdown. També podem aconseguir el mateix efecte al despegable que trobarem a la barra superior, o al menu *Cell-->Cell Type*"
   ]
  },
  {
   "cell_type": "markdown",
   "metadata": {},
   "source": [
    "Podeu trobar molta més informació sobre la codificació Markdown a la Internet, per exemple a  https://ca.wikipedia.org/wiki/Markdown"
   ]
  },
  {
   "cell_type": "markdown",
   "metadata": {},
   "source": [
    "A la Internet també trobareu editors en línia, per exemple https://markdown-editor.github.io/"
   ]
  },
  {
   "cell_type": "markdown",
   "metadata": {},
   "source": [
    "Aquest generador de taules us pot ser molt útil: https://www.tablesgenerator.com/markdown_tables"
   ]
  },
  {
   "cell_type": "markdown",
   "metadata": {},
   "source": [
    "És interessant conèixer que Markdown accepta codis Unicode. Per exemple els codis `&#767; &#2400; &#9658;` es visualitzen com a &#9658; &#767; &#2400;\n",
    "\n",
    "Trobareu codis Unicode del teclat a http://xahlee.info/comp/unicode_computing_symbols.html i una col·lecció molt interessant a https://unicode-table.com/en/"
   ]
  },
  {
   "cell_type": "markdown",
   "metadata": {},
   "source": [
    "Podeu incloure expressions *LaTeX* a una cel·la Markdown. Potser us serpa útil el document **Annex B. Latex** si no esteu familiaritzats amb aquesta codificació."
   ]
  },
  {
   "cell_type": "code",
   "execution_count": 2,
   "metadata": {},
   "outputs": [
    {
     "data": {
      "text/html": [
       "./<br>\n",
       "&nbsp;&nbsp;<a href='./1. Introducció.ipynb' target='_blank'>1. Introducció.ipynb</a><br>\n",
       "&nbsp;&nbsp;<a href='./3. Instal·lació de jupyter notebook.ipynb' target='_blank'>3. Instal·lació de jupyter notebook.ipynb</a><br>\n",
       "&nbsp;&nbsp;<a href='./càlcul científic amb python.ipynb' target='_blank'>càlcul científic amb python.ipynb</a><br>\n",
       "&nbsp;&nbsp;<a href='./Annex B. Latex.ipynb' target='_blank'>Annex B. Latex.ipynb</a><br>\n",
       "&nbsp;&nbsp;<a href='./git.ipynb' target='_blank'>git.ipynb</a><br>\n",
       "&nbsp;&nbsp;<a href='./Exemple1 - Resolució problema PAU.ipynb' target='_blank'>Exemple1 - Resolució problema PAU.ipynb</a><br>\n",
       "&nbsp;&nbsp;<a href='./Accelerant el càlcul científic.ipynb' target='_blank'>Accelerant el càlcul científic.ipynb</a><br>\n",
       "&nbsp;&nbsp;<a href='./2. L'entorn jupyter notebook.ipynb' target='_blank'>2. L'entorn jupyter notebook.ipynb</a><br>\n",
       "&nbsp;&nbsp;<a href='./README.md' target='_blank'>README.md</a><br>\n",
       "&nbsp;&nbsp;<a href='./Annex A. Markdown.ipynb' target='_blank'>Annex A. Markdown.ipynb</a><br>\n",
       "&nbsp;&nbsp;<a href='./LICENSE' target='_blank'>LICENSE</a><br>"
      ],
      "text/plain": [
       "./\n",
       "  1. Introducció.ipynb\n",
       "  3. Instal·lació de jupyter notebook.ipynb\n",
       "  càlcul científic amb python.ipynb\n",
       "  Annex B. Latex.ipynb\n",
       "  git.ipynb\n",
       "  Exemple1 - Resolució problema PAU.ipynb\n",
       "  Accelerant el càlcul científic.ipynb\n",
       "  2. L'entorn jupyter notebook.ipynb\n",
       "  README.md\n",
       "  Annex A. Markdown.ipynb\n",
       "  LICENSE"
      ]
     },
     "execution_count": 2,
     "metadata": {},
     "output_type": "execute_result"
    }
   ],
   "source": [
    "from IPython.display import FileLink, FileLinks\n",
    "FileLinks('.', recursive=False)"
   ]
  },
  {
   "cell_type": "code",
   "execution_count": null,
   "metadata": {},
   "outputs": [],
   "source": []
  }
 ],
 "metadata": {
  "kernelspec": {
   "display_name": "Python 3",
   "language": "python",
   "name": "python3"
  },
  "language_info": {
   "codemirror_mode": {
    "name": "ipython",
    "version": 3
   },
   "file_extension": ".py",
   "mimetype": "text/x-python",
   "name": "python",
   "nbconvert_exporter": "python",
   "pygments_lexer": "ipython3",
   "version": "3.7.3"
  }
 },
 "nbformat": 4,
 "nbformat_minor": 4
}
