{
 "cells": [
  {
   "cell_type": "markdown",
   "metadata": {},
   "source": [
    "# Markdown"
   ]
  },
  {
   "cell_type": "markdown",
   "metadata": {},
   "source": [
    "> Markdown és un llenguatge de marques lleuger, originalment creat per John Gruber i Aaron Swartz que permet \"escriure utilitzant un format de text pla fàcil d'escriure i de llegir i després convertir-ho en un XHTML o HTML estructuralment vàlid\". El llenguatge té moltes similituds amb les convencions que ja existeixen a l'hora de formatar text pla en correus electrònics. \n",
    "\n",
    "*Col·laboradors de la Viquipèdia. Markdown [en línia]. Viquipèdia, l'Enciclopèdia Lliure, 2020 [data de consulta: 27 de juliol del 2020]. Disponible en <//ca.wikipedia.org/w/index.php?title=Markdown&oldid=24294813>.*"
   ]
  },
  {
   "cell_type": "markdown",
   "metadata": {},
   "source": [
    "Amb la tecla **`M`** podem convertitr una cel·la en markdown. També podem aconseguir el mateix efecte al despegable que trobarem a la barra superior, o al menu *Cell-->Cell Type*"
   ]
  },
  {
   "cell_type": "markdown",
   "metadata": {},
   "source": [
    "Podeu trobar molta més informació sobre la codificació Markdown a la Internet, per exemple a  https://ca.wikipedia.org/wiki/Markdown"
   ]
  },
  {
   "cell_type": "markdown",
   "metadata": {},
   "source": [
    "A la Internet també trobareu editors en línia, per exemple https://markdown-editor.github.io/"
   ]
  },
  {
   "cell_type": "markdown",
   "metadata": {},
   "source": [
    "Aquest generador de taules us pot ser molt útil: https://www.tablesgenerator.com/markdown_tables"
   ]
  },
  {
   "cell_type": "markdown",
   "metadata": {},
   "source": [
    "És interessant conèixer que Markdown accepta codis Unicode. Per exemple els codis `&#767; &#2400; &#9658;` es visualitzen com a &#9658; &#767; &#2400;\n",
    "\n",
    "Trobareu codis Unicode del teclat a http://xahlee.info/comp/unicode_computing_symbols.html i una col·lecció molt interessant a https://unicode-table.com/en/"
   ]
  },
  {
   "cell_type": "markdown",
   "metadata": {},
   "source": [
    "Podeu incloure expressions *LaTeX* a una cel·la Markdown. Potser us serpa útil el document **Annex B. Latex** si no esteu familiaritzats amb aquesta codificació."
   ]
  }
 ],
 "metadata": {
  "kernelspec": {
   "display_name": "Python 3",
   "language": "python",
   "name": "python3"
  },
  "language_info": {
   "codemirror_mode": {
    "name": "ipython",
    "version": 3
   },
   "file_extension": ".py",
   "mimetype": "text/x-python",
   "name": "python",
   "nbconvert_exporter": "python",
   "pygments_lexer": "ipython3",
   "version": "3.7.3"
  }
 },
 "nbformat": 4,
 "nbformat_minor": 4
}
