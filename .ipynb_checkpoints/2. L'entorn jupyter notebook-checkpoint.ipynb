{
 "cells": [
  {
   "cell_type": "markdown",
   "metadata": {},
   "source": [
    "# L'entorn *jupyter notebook*"
   ]
  },
  {
   "cell_type": "markdown",
   "metadata": {},
   "source": [
    "Si esteu llegint aquest document tindreu obert l'entorn *jupyter notebook*\n",
    "\n",
    "Si l'esteu llegint a *mybinder* podeu fer proves de tot el que expliquem. No us preocupeu: el document original no es farà malbé, ja que esteu treballant a una còpia temporal. "
   ]
  },
  {
   "cell_type": "markdown",
   "metadata": {},
   "source": [
    "Primer de tot fixeu-vos en el botó &#9658;*Run* a la barra superior. Permet executar cada una de les cel·les del document. També podeu obtenir el mateix efecte amb la combinació de tecles &#8679; &#8629;\n",
    "\n",
    "Amb el botó &#9193; a la dreta de &#9658;*Run* podem executar de cop totes les cel·les del document"
   ]
  },
  {
   "cell_type": "markdown",
   "metadata": {},
   "source": [
    "Amb la tecla &#8629; entrem al mode edició de la cel·la. Fixeu-vos com canvia de blau a verd el contorn de la cel·la"
   ]
  },
  {
   "cell_type": "markdown",
   "metadata": {},
   "source": [
    "Les dreceres de teclat més utilitzades són:\n",
    "\n",
    "- Navegació bàsica: **`enter`**, **`shift-enter`**, **`up/k`**, **`down/j`**\n",
    "- Desar el notebook: **`s`**\n",
    "- Canviar el tipus de cel-la: **`y`**, **`m`**, **`1-6`**, **`r`**\n",
    "- Crear una cel·la: **`a`**, **`b`**\n",
    "- Edició de cel.les: **`x`**, **`c`**, **`v`**, **`d`**, **`z`**, **`ctrl+shift+-`**\n",
    "- Operacions amb el kernel: **`i`**, **`.`**\n",
    "\n",
    "Trobareu al menú *Help-->Keyboard Shortcuts* (accessible amb la tecla **`H`**) més informació sobre les dreceres de teclat."
   ]
  },
  {
   "cell_type": "markdown",
   "metadata": {},
   "source": [
    "Fixeu-vos que tenim diferents tipus de cel·les.\n",
    "\n",
    "Per defecte la nostra cel·la serà de tipus *Python*. Ens serà útil per fer càlculs, gràfiques ...\n",
    "\n",
    "Amb la tecla **`M`** podem convertitr una cel·la en Markdown. També podem aconseguir el mateix efecte al despegable que trobarem a la barra superior, o al menu *Cell-->Cell Type*. Amb aquest tipus de cel·la podrem documentar l'arxiu. De fet, la majoria de les cel·les d'aquest repositoty que esteu llegint són de tipus Markdown.\n",
    "\n",
    "Potser us serà útil el document **Annex A: Markdown** si no esteu familizaritzats amb aquesta codificació."
   ]
  },
  {
   "cell_type": "code",
   "execution_count": 1,
   "metadata": {},
   "outputs": [
    {
     "data": {
      "text/html": [
       "./<br>\n",
       "&nbsp;&nbsp;<a href='./1. Introducció.ipynb' target='_blank'>1. Introducció.ipynb</a><br>\n",
       "&nbsp;&nbsp;<a href='./3. Instal·lació de jupyter notebook.ipynb' target='_blank'>3. Instal·lació de jupyter notebook.ipynb</a><br>\n",
       "&nbsp;&nbsp;<a href='./càlcul científic amb python.ipynb' target='_blank'>càlcul científic amb python.ipynb</a><br>\n",
       "&nbsp;&nbsp;<a href='./Annex B. Latex.ipynb' target='_blank'>Annex B. Latex.ipynb</a><br>\n",
       "&nbsp;&nbsp;<a href='./4. Compartint els nostres documents amb GitHub i Binder.ipynb' target='_blank'>4. Compartint els nostres documents amb GitHub i Binder.ipynb</a><br>\n",
       "&nbsp;&nbsp;<a href='./Exemple1 - Resolució problema PAU.ipynb' target='_blank'>Exemple1 - Resolució problema PAU.ipynb</a><br>\n",
       "&nbsp;&nbsp;<a href='./Annex C. Git i GitHub.ipynb' target='_blank'>Annex C. Git i GitHub.ipynb</a><br>\n",
       "&nbsp;&nbsp;<a href='./Accelerant el càlcul científic.ipynb' target='_blank'>Accelerant el càlcul científic.ipynb</a><br>\n",
       "&nbsp;&nbsp;<a href='./2. L'entorn jupyter notebook.ipynb' target='_blank'>2. L'entorn jupyter notebook.ipynb</a><br>\n",
       "&nbsp;&nbsp;<a href='./README.md' target='_blank'>README.md</a><br>\n",
       "&nbsp;&nbsp;<a href='./Annex A. Markdown.ipynb' target='_blank'>Annex A. Markdown.ipynb</a><br>\n",
       "&nbsp;&nbsp;<a href='./LICENSE' target='_blank'>LICENSE</a><br>"
      ],
      "text/plain": [
       "./\n",
       "  1. Introducció.ipynb\n",
       "  3. Instal·lació de jupyter notebook.ipynb\n",
       "  càlcul científic amb python.ipynb\n",
       "  Annex B. Latex.ipynb\n",
       "  4. Compartint els nostres documents amb GitHub i Binder.ipynb\n",
       "  Exemple1 - Resolució problema PAU.ipynb\n",
       "  Annex C. Git i GitHub.ipynb\n",
       "  Accelerant el càlcul científic.ipynb\n",
       "  2. L'entorn jupyter notebook.ipynb\n",
       "  README.md\n",
       "  Annex A. Markdown.ipynb\n",
       "  LICENSE"
      ]
     },
     "execution_count": 1,
     "metadata": {},
     "output_type": "execute_result"
    }
   ],
   "source": [
    "from IPython.display import FileLink, FileLinks\n",
    "FileLinks('.', recursive=False)"
   ]
  }
 ],
 "metadata": {
  "kernelspec": {
   "display_name": "Python 3",
   "language": "python",
   "name": "python3"
  },
  "language_info": {
   "codemirror_mode": {
    "name": "ipython",
    "version": 3
   },
   "file_extension": ".py",
   "mimetype": "text/x-python",
   "name": "python",
   "nbconvert_exporter": "python",
   "pygments_lexer": "ipython3",
   "version": "3.7.3"
  }
 },
 "nbformat": 4,
 "nbformat_minor": 4
}
