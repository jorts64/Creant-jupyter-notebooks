{
 "cells": [
  {
   "cell_type": "markdown",
   "metadata": {},
   "source": [
    "# 3. Instal·lació de jupyter notebook"
   ]
  },
  {
   "cell_type": "markdown",
   "metadata": {},
   "source": [
    "Aquesta instal·lació l'he comprovada amb Debian 10 i Ubuntu 20.04. Si voleu fer un petit cluster amb un grapat de orange pi one, us recomano Debian 10, ja que no dona problemes de comunicació MPI amb Armbian.\n",
    "\n",
    "Primer instal·lem les biblioteque científiques, després jupyter:\n",
    "\n",
    "```bash\n",
    "sudo apt install python3-pip\n",
    "sudo python3 -m pip install --upgrade pip\n",
    "sudo pip3 install sympy\n",
    "sudo apt-get install python3-matplotlib\n",
    "sudo apt-get install python3-scipy -y\n",
    "sudo apt-get install python3-numpy -y\n",
    "sudo pip3 install jupyter\n",
    "```\n",
    "També interessa instal·lar Latex, ja que ens permetrà exportar el nostre document a PDF\n",
    "\n",
    "```bash\n",
    "sudo apt-get install texlive-xetex texlive-fonts-recommended texlive-generic-recommended\n",
    "\n",
    "```\n",
    "Ara ja podrem crear una carpeta a l'usuari que executarà el servidor jupyter per desar els arxius, i executarem des d'aquesta carpeta jupyter, que obrira un navegador amb el webide\n",
    "\n",
    "```bash\n",
    "mkdir ~/jupyter\n",
    "cd ~/jupyter\n",
    "jupyter notebook\n",
    "\n",
    "```\n",
    "Si el volem tenir a un servidor, caldrà evitar que intenti obrir el navegador i haurem d'autoritzar el seu ús des d'altres màquines a la xarxa\n",
    "\n",
    "Primer hem de crear un fitxer de configuració\n",
    "\n",
    "```bash\n",
    "jupyter notebook --generate-config\n",
    "\n",
    "```\n",
    "Aquest fitxer el trobarem a ~/.jupyter/jupyter_notebook_config.py. L'haurtem de modificar amb les línies\n",
    "\n",
    "```bash\n",
    "c.NotebookApp.open_browser = False\n",
    "c.NotebookApp.ip = '*'\n",
    "\n",
    "```\n",
    "I haurem de generar una contrasenya per evitar treballar amb tokens\n",
    "\n",
    "```bash\n",
    "jupyter notebook password \n",
    "\n",
    "```\n"
   ]
  }
 ],
 "metadata": {
  "kernelspec": {
   "display_name": "Python 3",
   "language": "python",
   "name": "python3"
  },
  "language_info": {
   "codemirror_mode": {
    "name": "ipython",
    "version": 3
   },
   "file_extension": ".py",
   "mimetype": "text/x-python",
   "name": "python",
   "nbconvert_exporter": "python",
   "pygments_lexer": "ipython3",
   "version": "3.7.3"
  }
 },
 "nbformat": 4,
 "nbformat_minor": 4
}
