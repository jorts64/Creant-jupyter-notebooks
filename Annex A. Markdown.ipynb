{
 "cells": [
  {
   "cell_type": "markdown",
   "metadata": {},
   "source": [
    "# Markdown"
   ]
  },
  {
   "cell_type": "markdown",
   "metadata": {},
   "source": [
    "> Markdown és un llenguatge de marques lleuger, originalment creat per John Gruber i Aaron Swartz que permet \"escriure utilitzant un format de text pla fàcil d'escriure i de llegir i després convertir-ho en un XHTML o HTML estructuralment vàlid\". El llenguatge té moltes similituds amb les convencions que ja existeixen a l'hora de formatar text pla en correus electrònics. \n",
    "\n",
    "*Col·laboradors de la Viquipèdia. Markdown [en línia]. Viquipèdia, l'Enciclopèdia Lliure, 2020 [data de consulta: 27 de juliol del 2020]. Disponible en <//ca.wikipedia.org/w/index.php?title=Markdown&oldid=24294813>.*"
   ]
  },
  {
   "cell_type": "markdown",
   "metadata": {},
   "source": [
    "Amb la tecla **`M`** podem convertitr una cel·la en markdown. També podem aconseguir el mateix efecte al despegable que trobarem a la barra superior, o al menu *Cell-->Cell Type*"
   ]
  },
  {
   "cell_type": "markdown",
   "metadata": {},
   "source": [
    "Podeu trobar molta més informació sobre la codificació Markdown a la Internet, per exemple a  https://ca.wikipedia.org/wiki/Markdown i https://www.markdownguide.org/basic-syntax/\n",
    "\n",
    "Aquest tutorial us pot ser molt útil: https://www.datacamp.com/community/tutorials/markdown-in-jupyter-notebook"
   ]
  },
  {
   "cell_type": "markdown",
   "metadata": {},
   "source": [
    "A la Internet també trobareu editors en línia, per exemple https://markdown-editor.github.io/"
   ]
  },
  {
   "cell_type": "markdown",
   "metadata": {},
   "source": [
    "## Trucs"
   ]
  },
  {
   "cell_type": "markdown",
   "metadata": {},
   "source": [
    "Per fer taules heu de fer servir la sintaxis *HTML*. Podeu utilitzar un editor HTML online, com ara, https://html-online.com/editor/, i generar el codi de la taula.\n",
    "\n",
    "<table>\n",
    "<tbody>\n",
    "<tr>\n",
    "<td>1</td>\n",
    "<td>2</td>\n",
    "<td>3</td>\n",
    "<td>4</td>\n",
    "<td>5</td>\n",
    "</tr>\n",
    "<tr>\n",
    "<td>6</td>\n",
    "<td>7</td>\n",
    "<td>8</td>\n",
    "<td>9</td>\n",
    "<td>A</td>\n",
    "</tr>\n",
    "<tr>\n",
    "<td>B</td>\n",
    "<td>C</td>\n",
    "<td>D</td>\n",
    "<td>E</td>\n",
    "<td>F</td>\n",
    "</tr>\n",
    "</tbody>\n",
    "</table>"
   ]
  },
  {
   "cell_type": "markdown",
   "metadata": {},
   "source": [
    "### Canvis de línia\n",
    "\n",
    "Per defecte s'ignoren els canvis de línia, cosa que podm evitar **si acabem cada línia amb tres espais**"
   ]
  },
  {
   "cell_type": "markdown",
   "metadata": {},
   "source": [
    "### Unicode"
   ]
  },
  {
   "cell_type": "markdown",
   "metadata": {},
   "source": [
    "És interessant conèixer que Markdown accepta codis Unicode. Per exemple els codis `&#767; &#2400; &#9658;` es visualitzen com a &#9658; &#767; &#2400;\n",
    "\n",
    "Trobareu codis Unicode del teclat a http://xahlee.info/comp/unicode_computing_symbols.html i una col·lecció molt interessant a https://unicode-table.com/en/"
   ]
  },
  {
   "cell_type": "markdown",
   "metadata": {},
   "source": [
    "### Llistes numerades\n",
    "\n",
    "És important acabar cada ítem amb tres espais, per evitar problemes"
   ]
  },
  {
   "cell_type": "markdown",
   "metadata": {},
   "source": [
    "1. Dos cotxes amb massa m= 1000 kg circulen a 60 km/h i xoquen frontalment, quedant aturats. Calculeu   \n",
    " a) L'energia alliberada en forma de calor per a cada cotxe.   \n",
    " b) Els temps de frenada si els frens a cada cotxe exerceixen una força constant F = 4 kN   \n",
    " c) L'espai recorregut en aquesta frenada   \n",
    " d) Repetiu els apartats anteriors si la velocitat fos el doble (120 km/h)  "
   ]
  },
  {
   "cell_type": "markdown",
   "metadata": {},
   "source": [
    "### $\\LaTeX$"
   ]
  },
  {
   "cell_type": "markdown",
   "metadata": {},
   "source": [
    "Podeu incloure expressions $\\LaTeX$ a una cel·la Markdown. Només cal posar el codi $\\LaTeX$ entre símbols `$` , sense cap espai al voltant de l'expressió $\\LaTeX$ .Potser us serà útil el document **Annex B. LaTeX** si no esteu familiaritzats amb aquesta codificació."
   ]
  },
  {
   "cell_type": "code",
   "execution_count": null,
   "metadata": {},
   "outputs": [],
   "source": []
  }
 ],
 "metadata": {
  "kernelspec": {
   "display_name": "Python 3",
   "language": "python",
   "name": "python3"
  },
  "language_info": {
   "codemirror_mode": {
    "name": "ipython",
    "version": 3
   },
   "file_extension": ".py",
   "mimetype": "text/x-python",
   "name": "python",
   "nbconvert_exporter": "python",
   "pygments_lexer": "ipython3",
   "version": "3.7.3"
  }
 },
 "nbformat": 4,
 "nbformat_minor": 4
}
