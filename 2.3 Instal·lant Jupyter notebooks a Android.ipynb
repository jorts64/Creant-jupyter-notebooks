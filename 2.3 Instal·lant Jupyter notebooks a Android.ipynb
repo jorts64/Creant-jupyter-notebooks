{
 "cells": [
  {
   "cell_type": "markdown",
   "metadata": {},
   "source": [
    "# Instal·lant Jupyter notebooks a Android"
   ]
  },
  {
   "cell_type": "markdown",
   "metadata": {},
   "source": [
    "Gràcies a l'aplicació Android [Pydroid 3](https://play.google.com/store/apps/details?id=ru.iiec.pydroid3) podem editar i visualitzar els Jupyter notebooks al mòbil o tablet. Això sí necessitarem al voltant de 1 GB d'espai a la memòria interna del nostre dispositiu Android"
   ]
  },
  {
   "cell_type": "markdown",
   "metadata": {},
   "source": [
    "<img src=\"Screenshot_20210402-161627_Pydroid 3.jpg\" width =\"200\">"
   ]
  },
  {
   "cell_type": "markdown",
   "metadata": {},
   "source": [
    "Anirem a l'opció Pip del *menú* i a la pestanya *Quick install* seleccionarem *jupyter*. També recomano instal·lar de la mateixa forma les llibreries *matplotlib*, *numpy* i *pandas*. "
   ]
  },
  {
   "cell_type": "markdown",
   "metadata": {},
   "source": [
    "<img src=\"Screenshot_20210402-161506_Pydroid 3.jpg\" width =\"200\">"
   ]
  },
  {
   "cell_type": "markdown",
   "metadata": {},
   "source": [
    "Podem instal·lar altres llibreries -jo remomano *holodeck*, *pint* i *simpy*- des de la pestanya *Install*, on caldrà escriure el nom de la llibreria."
   ]
  },
  {
   "cell_type": "markdown",
   "metadata": {},
   "source": [
    "<img src=\"Screenshot_20210402-161540_Pydroid 3.jpg\" width =\"200\">"
   ]
  },
  {
   "cell_type": "markdown",
   "metadata": {},
   "source": [
    "Ja podem utilitzar els jupyter notebooks: només caldrà obrir al menú l'opció *Terminal* i executar    \n",
    "`jupyter notebook`"
   ]
  },
  {
   "cell_type": "markdown",
   "metadata": {},
   "source": [
    "<img src=\"Screenshot_20210402-162410_Pydroid 3.jpg\" height =\"200\">"
   ]
  },
  {
   "cell_type": "markdown",
   "metadata": {},
   "source": [
    "Automàticament s'obrira el navegador amb accés a la memòria interna del nostre dispositiu. Suggereixo crear una carpeta anomenada *Jupyter* on desar tots els nostres projectes."
   ]
  },
  {
   "cell_type": "markdown",
   "metadata": {},
   "source": [
    "<img src=\"Screenshot_20210402-161744_Samsung Internet.jpg\" width =\"200\">"
   ]
  }
 ],
 "metadata": {
  "kernelspec": {
   "display_name": "Python 3",
   "language": "python",
   "name": "python3"
  },
  "language_info": {
   "codemirror_mode": {
    "name": "ipython",
    "version": 3
   },
   "file_extension": ".py",
   "mimetype": "text/x-python",
   "name": "python",
   "nbconvert_exporter": "python",
   "pygments_lexer": "ipython3",
   "version": "3.8.5"
  }
 },
 "nbformat": 4,
 "nbformat_minor": 4
}
