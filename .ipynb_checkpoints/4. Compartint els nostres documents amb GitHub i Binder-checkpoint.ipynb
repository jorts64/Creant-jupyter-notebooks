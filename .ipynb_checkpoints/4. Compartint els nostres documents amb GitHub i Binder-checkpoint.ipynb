{
 "cells": [
  {
   "cell_type": "markdown",
   "metadata": {},
   "source": [
    "# Compartint els nostres documents amb GitHub i Binder"
   ]
  },
  {
   "cell_type": "markdown",
   "metadata": {},
   "source": [
    "## Treballant amb GitHub"
   ]
  },
  {
   "cell_type": "markdown",
   "metadata": {},
   "source": [
    "Una vegada donats d'alta a *GitHub* podem crear un nou repositori per compartir els nostres documents.\n",
    "\n",
    "**Molt important**: Cal seleccionar l'opció *Initialize this repository with a README* i seleccionar una opció de llicència. Jo fag servir *GNU General Public License v3.0*, però això queda al vostre criteri."
   ]
  },
  {
   "cell_type": "markdown",
   "metadata": {},
   "source": [
    "\n",
    "Cada repositori té una adreça internet, que podeu copiar al desplegable &#11015;*Code*. En el cas d'aquest repositori que esteu llegint es *https://github.com/jorts64/Creant-jupyter-notebooks.git*, que faré serir d'exemple.\n",
    "\n",
    "Ara al vostre ordinador feu des del terminal a la vostra carpeta de documents `~/jupyter` que heu creat a la instal·lació\n",
    "\n",
    "```bash\n",
    "git clone https://github.com/jorts64/Creant-jupyter-notebooks.git\n",
    "```\n",
    "\n",
    "Amb això es crearà una carpeta dintre de `~/jupyter` que visualitzarem  des de *jupyter*. Ja podem començar a fer els nostres documents en aquesta carpeta.\n",
    "\n",
    "Una vegada hem creat i donat contingut als nostres documents, a un terminal **dintre de la carpeta greada per git** fem\n",
    "```bash\n",
    "git add *\n",
    "git commit\n",
    "```\n",
    "En aquest pas hem de alterar el fitxer que s'obre, per exemple treient algun dels símbols de comentari que ens interessi registrar, i desar el fitxer i sortir de l'editor.\n",
    "Seguim fent\n",
    "```bash\n",
    "git push\n",
    "```\n",
    "Aquí ens demanarà l'usuari i contrasenya de *GitHub*\n",
    "Una vegada introduïdes, haurem actualitzat el nostre GitHub, com podem comprovar  al navegador.\n",
    "\n",
    "també ho podem comprovar amb\n",
    "```bash\n",
    "git status\n",
    "```\n",
    "Aquest procés l'haure de repetir cada vegada que actualizem els nostres documents, per fer públiques les modificacions.\n"
   ]
  },
  {
   "cell_type": "markdown",
   "metadata": {},
   "source": [
    "Ara qualsevol persona pot clonar el nostre repositori i treballar amb els nostres documents de forma local si té instal·lat *jupyter notebook*. Només ha de fer \n",
    "\n",
    "```bash\n",
    "git clone https://github.com/jorts64/Creant-jupyter-notebooks.git\n",
    "```\n",
    "des de la seva carpeta `~/jupyter`.\n",
    "\n",
    "Si vol actualitzar els documents amb els darrers canvis haurà de fer **dintre de la carpeta greada per git**\n",
    "```bash\n",
    "git pull\n",
    "```"
   ]
  },
  {
   "cell_type": "markdown",
   "metadata": {},
   "source": [
    "## Registrant el repositori a *Binder*"
   ]
  },
  {
   "cell_type": "markdown",
   "metadata": {},
   "source": [
    "Però nosaltres volem que els documents es puguin llegir sense tenir instal·lat *jupyter*. El que farem serà registrar el repositori a *Binder* i compartir l'enllaç.\n",
    "\n",
    "Anem a https://mybinder.org/ i copiem l'adreça del nostre repositori GitHub. Si volem que el lector accedeixi a un document en iniciar podem afegir el nom del fitxer.\n",
    "\n",
    "Ara ja podem copiar l'adreça generada i compartir-la. \n",
    "\n",
    "A sota tenim l'opció per generar codi Markdown per afegir un botó per iniciar binder amb el nostre repositori que podem copiar al nostre fitxer Readme.md del nostre repositori, com aquest:\n",
    "\n"
   ]
  },
  {
   "cell_type": "markdown",
   "metadata": {},
   "source": [
    "\n",
    "[![Binder](https://mybinder.org/badge_logo.svg)](https://mybinder.org/v2/gh/jorts64/Creant-jupyter-notebooks/master)\n"
   ]
  },
  {
   "cell_type": "markdown",
   "metadata": {},
   "source": [
    "Naturalment podem comprovar que tot és correcte clicant al botó **`launch`**"
   ]
  },
  {
   "cell_type": "markdown",
   "metadata": {},
   "source": [
    "Trobareu més informació sobre *Git* i *GitHub* al document *Annex C. Git i GitHub*"
   ]
  },
  {
   "cell_type": "code",
   "execution_count": 1,
   "metadata": {},
   "outputs": [
    {
     "data": {
      "text/html": [
       "./<br>\n",
       "&nbsp;&nbsp;<a href='./1. Introducció.ipynb' target='_blank'>1. Introducció.ipynb</a><br>\n",
       "&nbsp;&nbsp;<a href='./3. Instal·lació de jupyter notebook.ipynb' target='_blank'>3. Instal·lació de jupyter notebook.ipynb</a><br>\n",
       "&nbsp;&nbsp;<a href='./càlcul científic amb python.ipynb' target='_blank'>càlcul científic amb python.ipynb</a><br>\n",
       "&nbsp;&nbsp;<a href='./Annex B. Latex.ipynb' target='_blank'>Annex B. Latex.ipynb</a><br>\n",
       "&nbsp;&nbsp;<a href='./4. Compartint els nostres documents amb GitHub i Binder.ipynb' target='_blank'>4. Compartint els nostres documents amb GitHub i Binder.ipynb</a><br>\n",
       "&nbsp;&nbsp;<a href='./Exemple1 - Resolució problema PAU.ipynb' target='_blank'>Exemple1 - Resolució problema PAU.ipynb</a><br>\n",
       "&nbsp;&nbsp;<a href='./Annex C. Git i GitHub.ipynb' target='_blank'>Annex C. Git i GitHub.ipynb</a><br>\n",
       "&nbsp;&nbsp;<a href='./Accelerant el càlcul científic.ipynb' target='_blank'>Accelerant el càlcul científic.ipynb</a><br>\n",
       "&nbsp;&nbsp;<a href='./2. L'entorn jupyter notebook.ipynb' target='_blank'>2. L'entorn jupyter notebook.ipynb</a><br>\n",
       "&nbsp;&nbsp;<a href='./README.md' target='_blank'>README.md</a><br>\n",
       "&nbsp;&nbsp;<a href='./Annex A. Markdown.ipynb' target='_blank'>Annex A. Markdown.ipynb</a><br>\n",
       "&nbsp;&nbsp;<a href='./LICENSE' target='_blank'>LICENSE</a><br>"
      ],
      "text/plain": [
       "./\n",
       "  1. Introducció.ipynb\n",
       "  3. Instal·lació de jupyter notebook.ipynb\n",
       "  càlcul científic amb python.ipynb\n",
       "  Annex B. Latex.ipynb\n",
       "  4. Compartint els nostres documents amb GitHub i Binder.ipynb\n",
       "  Exemple1 - Resolució problema PAU.ipynb\n",
       "  Annex C. Git i GitHub.ipynb\n",
       "  Accelerant el càlcul científic.ipynb\n",
       "  2. L'entorn jupyter notebook.ipynb\n",
       "  README.md\n",
       "  Annex A. Markdown.ipynb\n",
       "  LICENSE"
      ]
     },
     "execution_count": 1,
     "metadata": {},
     "output_type": "execute_result"
    }
   ],
   "source": [
    "from IPython.display import FileLink, FileLinks\n",
    "FileLinks('.', recursive=False)"
   ]
  }
 ],
 "metadata": {
  "kernelspec": {
   "display_name": "Python 3",
   "language": "python",
   "name": "python3"
  },
  "language_info": {
   "codemirror_mode": {
    "name": "ipython",
    "version": 3
   },
   "file_extension": ".py",
   "mimetype": "text/x-python",
   "name": "python",
   "nbconvert_exporter": "python",
   "pygments_lexer": "ipython3",
   "version": "3.7.3"
  }
 },
 "nbformat": 4,
 "nbformat_minor": 4
}
