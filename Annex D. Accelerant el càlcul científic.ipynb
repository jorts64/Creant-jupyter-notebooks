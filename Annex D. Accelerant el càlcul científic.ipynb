{
 "cells": [
  {
   "cell_type": "markdown",
   "metadata": {},
   "source": [
    "# Accelerant el càlcul científic"
   ]
  },
  {
   "cell_type": "markdown",
   "metadata": {},
   "source": [
    "## Vectoritzant càlculs"
   ]
  },
  {
   "cell_type": "markdown",
   "metadata": {},
   "source": [
    "Existeixen version vectoritzades de moltes funcions a la llibreria *numpy*. La idea es fer de cop la mateixa operació a tots els elements d'un vector de dades. Veiem un exemple del llibre *Programming for Computations - Python* de S. Linge and H.P. Langtangen. El codi utilitzat al llibre el teniu disponible a https://github.com/slgit/prog4comp_2:"
   ]
  },
  {
   "cell_type": "code",
   "execution_count": 6,
   "metadata": {},
   "outputs": [],
   "source": [
    "import timeit\n",
    "from integration_methods_vec import midpoint as midpoint_vec\n",
    "from midpoint import midpoint\n",
    "from numpy import exp\n",
    "v = lambda t: 3*t**2*exp(t**3)"
   ]
  },
  {
   "cell_type": "code",
   "execution_count": 9,
   "metadata": {},
   "outputs": [
    {
     "name": "stdout",
     "output_type": "stream",
     "text": [
      "Time, midpoint: 38.7778 seconds\n"
     ]
    }
   ],
   "source": [
    "t = timeit.Timer('midpoint(v, 0, 1, 1000000)', \\\n",
    "setup='from __main__ import midpoint, v')\n",
    "time_midpoint = t.timeit(10)\n",
    "print('Time, midpoint: {:g} seconds'.format(time_midpoint))"
   ]
  },
  {
   "cell_type": "code",
   "execution_count": 12,
   "metadata": {},
   "outputs": [
    {
     "name": "stdout",
     "output_type": "stream",
     "text": [
      "Time, midpoint vec: 1.81642 seconds\n",
      "Efficiency factor: 21.3484\n"
     ]
    }
   ],
   "source": [
    "t = timeit.Timer('midpoint_vec(v, 0, 1, 1000000)', \\\n",
    "setup='from __main__ import midpoint_vec, v')\n",
    "time_midpoint_vec = t.timeit(10)\n",
    "print('Time, midpoint vec: {:g} seconds'.format(time_midpoint_vec))\n",
    "print('Efficiency factor: {:g}'.format(time_midpoint/time_midpoint_vec))"
   ]
  },
  {
   "cell_type": "markdown",
   "metadata": {},
   "source": [
    "Com veieu vectoritzat el programa va 20 vegades més ràpid. Veiem en detall els canvis:"
   ]
  },
  {
   "cell_type": "markdown",
   "metadata": {},
   "source": [
    "A la versió no vectoritzada de la funció (a l'arxiu *midpoint.py*) el que fem és un bucle per tots els elements del vector de dades:\n",
    "\n",
    "```python\n",
    "def midpoint(f, a, b, n):\n",
    "    h = (b-a)/n\n",
    "    f_sum = 0\n",
    "    for i in range(0, n, 1):\n",
    "        x = (a + h/2.0) + i*h\n",
    "        f_sum = f_sum + f(x)\n",
    "    return h*f_sum\n",
    "\t\n",
    "```"
   ]
  },
  {
   "cell_type": "markdown",
   "metadata": {},
   "source": [
    "A la versió vectoritzada de la funció (a l'arxiu *integration_methods_vec.py*) el que fem és operar de cop sobre tots els elements del vector de dades:\n",
    "```python\n",
    "from numpy import linspace, sum\n",
    "\n",
    "def midpoint(f, a, b, n):\n",
    "    h = (b-a)/n\n",
    "    x = linspace(a + h/2, b - h/2, n)\n",
    "    return h*sum(f(x))\n",
    "```"
   ]
  },
  {
   "cell_type": "markdown",
   "metadata": {},
   "source": [
    "## Utilitzant *Cython*"
   ]
  },
  {
   "cell_type": "markdown",
   "metadata": {},
   "source": [
    "A *Jupyter Notebook Tricks for Data Science that Enhance your efficiency*, disponible a https://codeburst.io/jupyter-notebook-tricks-for-data-science-that-enhance-your-efficiency-95f98d3adee4, veiem un exemple de com utilitzar *Cython* per accelerar el càlcul a *jupyter* compilant una versió en llenguatge C de les funcions que més temps triguen en executar-se:"
   ]
  },
  {
   "cell_type": "code",
   "execution_count": 18,
   "metadata": {},
   "outputs": [],
   "source": [
    "def fib1(n):\n",
    "    a, b = 0,1\n",
    "    while b < n:\n",
    "        a, b = b, a + b"
   ]
  },
  {
   "cell_type": "code",
   "execution_count": 20,
   "metadata": {},
   "outputs": [],
   "source": [
    "%load_ext Cython"
   ]
  },
  {
   "cell_type": "code",
   "execution_count": 21,
   "metadata": {},
   "outputs": [],
   "source": [
    "%%cython\n",
    "def fib2(n):\n",
    "    a, b = 0,1\n",
    "    while b < n:\n",
    "        a, b = b, a + b"
   ]
  },
  {
   "cell_type": "code",
   "execution_count": 22,
   "metadata": {},
   "outputs": [
    {
     "name": "stdout",
     "output_type": "stream",
     "text": [
      "2.64 µs ± 9.78 ns per loop (mean ± std. dev. of 7 runs, 100000 loops each)\n",
      "1.01 µs ± 9.76 ns per loop (mean ± std. dev. of 7 runs, 1000000 loops each)\n"
     ]
    }
   ],
   "source": [
    "%timeit fib1(1000)\n",
    "%timeit fib2(1000)"
   ]
  },
  {
   "cell_type": "markdown",
   "metadata": {},
   "source": [
    "Hem reduit el temps a un 40% només afegint la paraula clau `%%cython`, que fa que la cel·la sigui traduïda i compilada amb el llenguatge C. \n",
    "\n",
    "Si coneixem aquest llenguatge podem modificar una mica la funció per que la traducció al llenguatge C sigui més natural, explicitant els tipus de variable i evitant operacions alienes al llenguatge C:"
   ]
  },
  {
   "cell_type": "code",
   "execution_count": 23,
   "metadata": {},
   "outputs": [],
   "source": [
    "%%cython\n",
    "def fib3(int n):\n",
    "    cdef int b = 1\n",
    "    cdef int a = 0\n",
    "    cdef int t = 0\n",
    "    while b < n:\n",
    "        t = a\n",
    "        a = b\n",
    "        b = t + b"
   ]
  },
  {
   "cell_type": "code",
   "execution_count": 24,
   "metadata": {},
   "outputs": [
    {
     "name": "stdout",
     "output_type": "stream",
     "text": [
      "109 ns ± 0.0403 ns per loop (mean ± std. dev. of 7 runs, 10000000 loops each)\n"
     ]
    }
   ],
   "source": [
    "%timeit fib3(1000)"
   ]
  },
  {
   "cell_type": "markdown",
   "metadata": {},
   "source": [
    "Ara la reducció respecte al programa original és brutal! Va 27 vegades més ràpid!"
   ]
  },
  {
   "cell_type": "markdown",
   "metadata": {},
   "source": [
    "## Utilitzar un petit cluster d'ordinadors per fer computació paral·lela"
   ]
  },
  {
   "cell_type": "markdown",
   "metadata": {},
   "source": [
    "Podem trobar a la Internet molts projectes que utilitzen diferents ordinadors per formar un *cluster* de computació en paral·lel, fins-i-tot amb Raspberry Pi (veure, per exemple, https://projects.raspberrypi.org/en/projects/build-an-octapi).\n",
    "\n",
    "Jo mateix em trobo desenvolupant un petit cluster de vuit Orange Pi One, encara més barates que les Raspberry Pi i igual de potents. Quan el projecte estigui acabat afegiré la documentació i les meves conclusions. Només us puc dir que, per ara, les proves són molt satisfactòries, tenin en compte que la despesa és inferior als 200 €."
   ]
  },
  {
   "cell_type": "code",
   "execution_count": 1,
   "metadata": {},
   "outputs": [
    {
     "data": {
      "text/html": [
       "./<br>\n",
       "&nbsp;&nbsp;<a href='./1. Introducció.ipynb' target='_blank'>1. Introducció.ipynb</a><br>\n",
       "&nbsp;&nbsp;<a href='./3. Instal·lació de jupyter notebook.ipynb' target='_blank'>3. Instal·lació de jupyter notebook.ipynb</a><br>\n",
       "&nbsp;&nbsp;<a href='./càlcul científic amb python.ipynb' target='_blank'>càlcul científic amb python.ipynb</a><br>\n",
       "&nbsp;&nbsp;<a href='./Annex B. Latex.ipynb' target='_blank'>Annex B. Latex.ipynb</a><br>\n",
       "&nbsp;&nbsp;<a href='./4. Compartint els nostres documents amb GitHub i Binder.ipynb' target='_blank'>4. Compartint els nostres documents amb GitHub i Binder.ipynb</a><br>\n",
       "&nbsp;&nbsp;<a href='./Annex D. Accelerant el càlcul científic.ipynb' target='_blank'>Annex D. Accelerant el càlcul científic.ipynb</a><br>\n",
       "&nbsp;&nbsp;<a href='./Exemple1 - Resolució problema PAU.ipynb' target='_blank'>Exemple1 - Resolució problema PAU.ipynb</a><br>\n",
       "&nbsp;&nbsp;<a href='./Annex C. Git i GitHub.ipynb' target='_blank'>Annex C. Git i GitHub.ipynb</a><br>\n",
       "&nbsp;&nbsp;<a href='./2. L'entorn jupyter notebook.ipynb' target='_blank'>2. L'entorn jupyter notebook.ipynb</a><br>\n",
       "&nbsp;&nbsp;<a href='./README.md' target='_blank'>README.md</a><br>\n",
       "&nbsp;&nbsp;<a href='./Annex A. Markdown.ipynb' target='_blank'>Annex A. Markdown.ipynb</a><br>\n",
       "&nbsp;&nbsp;<a href='./LICENSE' target='_blank'>LICENSE</a><br>"
      ],
      "text/plain": [
       "./\n",
       "  1. Introducció.ipynb\n",
       "  3. Instal·lació de jupyter notebook.ipynb\n",
       "  càlcul científic amb python.ipynb\n",
       "  Annex B. Latex.ipynb\n",
       "  4. Compartint els nostres documents amb GitHub i Binder.ipynb\n",
       "  Annex D. Accelerant el càlcul científic.ipynb\n",
       "  Exemple1 - Resolució problema PAU.ipynb\n",
       "  Annex C. Git i GitHub.ipynb\n",
       "  2. L'entorn jupyter notebook.ipynb\n",
       "  README.md\n",
       "  Annex A. Markdown.ipynb\n",
       "  LICENSE"
      ]
     },
     "execution_count": 1,
     "metadata": {},
     "output_type": "execute_result"
    }
   ],
   "source": [
    "from IPython.display import FileLink, FileLinks\n",
    "FileLinks('.', recursive=False)"
   ]
  },
  {
   "cell_type": "code",
   "execution_count": null,
   "metadata": {},
   "outputs": [],
   "source": []
  }
 ],
 "metadata": {
  "kernelspec": {
   "display_name": "Python 3",
   "language": "python",
   "name": "python3"
  },
  "language_info": {
   "codemirror_mode": {
    "name": "ipython",
    "version": 3
   },
   "file_extension": ".py",
   "mimetype": "text/x-python",
   "name": "python",
   "nbconvert_exporter": "python",
   "pygments_lexer": "ipython3",
   "version": "3.7.3"
  }
 },
 "nbformat": 4,
 "nbformat_minor": 4
}
