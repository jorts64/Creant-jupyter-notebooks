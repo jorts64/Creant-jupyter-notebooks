{
 "cells": [
  {
   "cell_type": "markdown",
   "metadata": {},
   "source": [
    "### PAU Tecnologia Industrial Convocatòria 2001 Sèrie 2 Opció A Problema 3\n",
    "\n",
    "![](http://www.jorts.net/PAU/dbase/img/2013-04-30-20-22-44.png)"
   ]
  },
  {
   "cell_type": "markdown",
   "metadata": {},
   "source": [
    "## a)\n",
    "\n",
    "Per a cada estufa:\n",
    "\n",
    "$P = I\\cdot U \\Rightarrow I=\\frac{P}{U}$"
   ]
  },
  {
   "cell_type": "code",
   "execution_count": 6,
   "metadata": {},
   "outputs": [
    {
     "name": "stdout",
     "output_type": "stream",
     "text": [
      "I= 1.3636363636363635\n"
     ]
    }
   ],
   "source": [
    "P=300\n",
    "U=220\n",
    "I=P/U\n",
    "print (\"I=\", I)"
   ]
  },
  {
   "cell_type": "markdown",
   "metadata": {},
   "source": [
    "Per tant, pel conjunt de les 12 estufes en paral·lel:"
   ]
  },
  {
   "cell_type": "code",
   "execution_count": 11,
   "metadata": {},
   "outputs": [
    {
     "name": "stdout",
     "output_type": "stream",
     "text": [
      "Itotal= 1.3636363636363635\n"
     ]
    }
   ],
   "source": [
    "It=12*I\n",
    "print (\"Itotal=\", I)"
   ]
  },
  {
   "cell_type": "markdown",
   "metadata": {},
   "source": [
    "## b)\n",
    "Per a cada estufa:\n",
    "\n",
    "$E=P \\cdot t$"
   ]
  },
  {
   "cell_type": "code",
   "execution_count": 15,
   "metadata": {},
   "outputs": [
    {
     "name": "stdout",
     "output_type": "stream",
     "text": [
      "E= 1500  W·h\n"
     ]
    }
   ],
   "source": [
    "t = 5\n",
    "E = P*t\n",
    "print(\"E=\",E,\" W·h\")"
   ]
  },
  {
   "cell_type": "markdown",
   "metadata": {},
   "source": [
    "Treballant amb kw·h:"
   ]
  },
  {
   "cell_type": "code",
   "execution_count": 17,
   "metadata": {},
   "outputs": [
    {
     "name": "stdout",
     "output_type": "stream",
     "text": [
      "E= 1.5  kW·h\n"
     ]
    }
   ],
   "source": [
    "E = E/1000\n",
    "print(\"E=\",E,\" kW·h\")"
   ]
  },
  {
   "cell_type": "markdown",
   "metadata": {},
   "source": [
    "Pel conjunt de les 12 estufes"
   ]
  },
  {
   "cell_type": "code",
   "execution_count": 18,
   "metadata": {},
   "outputs": [
    {
     "name": "stdout",
     "output_type": "stream",
     "text": [
      "Etotal= 18.0  kW·h\n"
     ]
    }
   ],
   "source": [
    "Etotal = 12*E\n",
    "print(\"Etotal=\",Etotal,\" kW·h\")"
   ]
  },
  {
   "cell_type": "markdown",
   "metadata": {},
   "source": [
    "I per tant el cost serà"
   ]
  },
  {
   "cell_type": "code",
   "execution_count": 19,
   "metadata": {},
   "outputs": [
    {
     "name": "stdout",
     "output_type": "stream",
     "text": [
      "cost= 1.44  EUR\n"
     ]
    }
   ],
   "source": [
    "c=0.08\n",
    "cost = Etotal*c\n",
    "print(\"cost=\",cost,\" EUR\")"
   ]
  },
  {
   "cell_type": "markdown",
   "metadata": {},
   "source": [
    "## c)\n",
    "\n",
    "Si treballem a 125 V, només la resistència de cada estufa es manté respecte el cas anterior. Haurem de calcular quin era el seu valor a la situació inicial:\n",
    "\n",
    "$I=\\frac{U}{R} \\Rightarrow R=\\frac{U}{I}$"
   ]
  },
  {
   "cell_type": "code",
   "execution_count": 20,
   "metadata": {},
   "outputs": [
    {
     "data": {
      "text/plain": [
       "161.33333333333334"
      ]
     },
     "execution_count": 20,
     "metadata": {},
     "output_type": "execute_result"
    }
   ],
   "source": [
    "R=U/I\n",
    "R"
   ]
  },
  {
   "cell_type": "markdown",
   "metadata": {},
   "source": [
    "Aquest valor de R serà el mateix per a la nova situació:"
   ]
  },
  {
   "cell_type": "code",
   "execution_count": 22,
   "metadata": {},
   "outputs": [
    {
     "name": "stdout",
     "output_type": "stream",
     "text": [
      "A 125V cada estufa té una potència de  96.849173553719  W\n"
     ]
    }
   ],
   "source": [
    "U=125\n",
    "I=U/R\n",
    "P=I*U\n",
    "print (\"A 125V cada estufa té una potència de \", P, \" W\")"
   ]
  },
  {
   "cell_type": "code",
   "execution_count": 1,
   "metadata": {},
   "outputs": [
    {
     "data": {
      "text/html": [
       "./<br>\n",
       "&nbsp;&nbsp;<a href='./1. Introducció.ipynb' target='_blank'>1. Introducció.ipynb</a><br>\n",
       "&nbsp;&nbsp;<a href='./3. Instal·lació de jupyter notebook.ipynb' target='_blank'>3. Instal·lació de jupyter notebook.ipynb</a><br>\n",
       "&nbsp;&nbsp;<a href='./càlcul científic amb python.ipynb' target='_blank'>càlcul científic amb python.ipynb</a><br>\n",
       "&nbsp;&nbsp;<a href='./Annex B. Latex.ipynb' target='_blank'>Annex B. Latex.ipynb</a><br>\n",
       "&nbsp;&nbsp;<a href='./4. Compartint els nostres documents amb GitHub i Binder.ipynb' target='_blank'>4. Compartint els nostres documents amb GitHub i Binder.ipynb</a><br>\n",
       "&nbsp;&nbsp;<a href='./Exemple1 - Resolució problema PAU.ipynb' target='_blank'>Exemple1 - Resolució problema PAU.ipynb</a><br>\n",
       "&nbsp;&nbsp;<a href='./Annex C. Git i GitHub.ipynb' target='_blank'>Annex C. Git i GitHub.ipynb</a><br>\n",
       "&nbsp;&nbsp;<a href='./Accelerant el càlcul científic.ipynb' target='_blank'>Accelerant el càlcul científic.ipynb</a><br>\n",
       "&nbsp;&nbsp;<a href='./2. L'entorn jupyter notebook.ipynb' target='_blank'>2. L'entorn jupyter notebook.ipynb</a><br>\n",
       "&nbsp;&nbsp;<a href='./README.md' target='_blank'>README.md</a><br>\n",
       "&nbsp;&nbsp;<a href='./Annex A. Markdown.ipynb' target='_blank'>Annex A. Markdown.ipynb</a><br>\n",
       "&nbsp;&nbsp;<a href='./LICENSE' target='_blank'>LICENSE</a><br>"
      ],
      "text/plain": [
       "./\n",
       "  1. Introducció.ipynb\n",
       "  3. Instal·lació de jupyter notebook.ipynb\n",
       "  càlcul científic amb python.ipynb\n",
       "  Annex B. Latex.ipynb\n",
       "  4. Compartint els nostres documents amb GitHub i Binder.ipynb\n",
       "  Exemple1 - Resolució problema PAU.ipynb\n",
       "  Annex C. Git i GitHub.ipynb\n",
       "  Accelerant el càlcul científic.ipynb\n",
       "  2. L'entorn jupyter notebook.ipynb\n",
       "  README.md\n",
       "  Annex A. Markdown.ipynb\n",
       "  LICENSE"
      ]
     },
     "execution_count": 1,
     "metadata": {},
     "output_type": "execute_result"
    }
   ],
   "source": [
    "from IPython.display import FileLink, FileLinks\n",
    "FileLinks('.', recursive=False)"
   ]
  },
  {
   "cell_type": "code",
   "execution_count": null,
   "metadata": {},
   "outputs": [],
   "source": []
  }
 ],
 "metadata": {
  "kernelspec": {
   "display_name": "Python 3",
   "language": "python",
   "name": "python3"
  },
  "language_info": {
   "codemirror_mode": {
    "name": "ipython",
    "version": 3
   },
   "file_extension": ".py",
   "mimetype": "text/x-python",
   "name": "python",
   "nbconvert_exporter": "python",
   "pygments_lexer": "ipython3",
   "version": "3.7.3"
  }
 },
 "nbformat": 4,
 "nbformat_minor": 4
}
