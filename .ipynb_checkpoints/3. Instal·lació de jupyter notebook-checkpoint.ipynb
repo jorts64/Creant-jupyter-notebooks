{
 "cells": [
  {
   "cell_type": "markdown",
   "metadata": {},
   "source": [
    "Aquesta instal·lació l'he comprovada amb Debian 10 i Ubuntu 20.04. Si voleu fer un petit cluster amb un grapat de orange pi one, us recomano Debian 10, ja que no dona problemes de comunicació MPI amb Armbian.\n",
    "\n",
    "Primer instal·lem les biblioteque científiques, després jupyter:\n",
    "\n",
    "```bash\n",
    "sudo apt install python3-pip\n",
    "sudo python3 -m pip install --upgrade pip\n",
    "sudo pip3 install sympy\n",
    "sudo apt-get install python3-matplotlib\n",
    "sudo apt-get install python3-scipy -y\n",
    "sudo apt-get install python3-numpy -y\n",
    "sudo pip3 install jupyter\n",
    "```\n",
    "També interessa instal·lar Latex, ja que ens permetrà exportar el nostre document a PDF\n",
    "\n",
    "```bash\n",
    "sudo apt-get install texlive-xetex texlive-fonts-recommended texlive-generic-recommended\n",
    "\n",
    "```\n",
    "Ara ja podrem crear una carpeta a l'usuari que executarà el servidor jupyter per desar els arxius, i executarem des d'aquesta carpeta jupyter, que obrira un navegador amb el webide\n",
    "\n",
    "```bash\n",
    "mkdir ~/jupyter\n",
    "cd ~/jupyter\n",
    "jupyter notebook\n",
    "\n",
    "```\n",
    "Si el volem tenir a un servidor, caldrà evitar que intenti obrir el navegador i haurem d'autoritzar el seu ús des d'altres màquines a la xarxa\n",
    "\n",
    "Primer hem de crear un fitxer de configuració\n",
    "\n",
    "```bash\n",
    "jupyter notebook --generate-config\n",
    "\n",
    "```\n",
    "Aquest fitxer el trobarem a ~/.jupyter/jupyter_notebook_config.py. L'haurtem de modificar amb les línies\n",
    "\n",
    "```bash\n",
    "c.NotebookApp.open_browser = False\n",
    "c.NotebookApp.ip = '*'\n",
    "\n",
    "```\n",
    "I haurem de generar una contrasenya per evitar treballar amb tokens\n",
    "\n",
    "```bash\n",
    "jupyter notebook password \n",
    "\n",
    "```\n"
   ]
  },
  {
   "cell_type": "code",
   "execution_count": 2,
   "metadata": {},
   "outputs": [
    {
     "data": {
      "text/html": [
       "./<br>\n",
       "&nbsp;&nbsp;<a href='./1. Introducció.ipynb' target='_blank'>1. Introducció.ipynb</a><br>\n",
       "&nbsp;&nbsp;<a href='./3. Instal·lació de jupyter notebook.ipynb' target='_blank'>3. Instal·lació de jupyter notebook.ipynb</a><br>\n",
       "&nbsp;&nbsp;<a href='./càlcul científic amb python.ipynb' target='_blank'>càlcul científic amb python.ipynb</a><br>\n",
       "&nbsp;&nbsp;<a href='./Annex B. Latex.ipynb' target='_blank'>Annex B. Latex.ipynb</a><br>\n",
       "&nbsp;&nbsp;<a href='./4. Compartint els nostres documents amb GitHub i Binder.ipynb' target='_blank'>4. Compartint els nostres documents amb GitHub i Binder.ipynb</a><br>\n",
       "&nbsp;&nbsp;<a href='./Exemple1 - Resolució problema PAU.ipynb' target='_blank'>Exemple1 - Resolució problema PAU.ipynb</a><br>\n",
       "&nbsp;&nbsp;<a href='./Annex C. Git i GitHub.ipynb' target='_blank'>Annex C. Git i GitHub.ipynb</a><br>\n",
       "&nbsp;&nbsp;<a href='./Accelerant el càlcul científic.ipynb' target='_blank'>Accelerant el càlcul científic.ipynb</a><br>\n",
       "&nbsp;&nbsp;<a href='./2. L'entorn jupyter notebook.ipynb' target='_blank'>2. L'entorn jupyter notebook.ipynb</a><br>\n",
       "&nbsp;&nbsp;<a href='./README.md' target='_blank'>README.md</a><br>\n",
       "&nbsp;&nbsp;<a href='./Annex A. Markdown.ipynb' target='_blank'>Annex A. Markdown.ipynb</a><br>\n",
       "&nbsp;&nbsp;<a href='./LICENSE' target='_blank'>LICENSE</a><br>"
      ],
      "text/plain": [
       "./\n",
       "  1. Introducció.ipynb\n",
       "  3. Instal·lació de jupyter notebook.ipynb\n",
       "  càlcul científic amb python.ipynb\n",
       "  Annex B. Latex.ipynb\n",
       "  4. Compartint els nostres documents amb GitHub i Binder.ipynb\n",
       "  Exemple1 - Resolució problema PAU.ipynb\n",
       "  Annex C. Git i GitHub.ipynb\n",
       "  Accelerant el càlcul científic.ipynb\n",
       "  2. L'entorn jupyter notebook.ipynb\n",
       "  README.md\n",
       "  Annex A. Markdown.ipynb\n",
       "  LICENSE"
      ]
     },
     "execution_count": 2,
     "metadata": {},
     "output_type": "execute_result"
    }
   ],
   "source": [
    "from IPython.display import FileLink, FileLinks\n",
    "FileLinks('.', recursive=False)"
   ]
  }
 ],
 "metadata": {
  "kernelspec": {
   "display_name": "Python 3",
   "language": "python",
   "name": "python3"
  },
  "language_info": {
   "codemirror_mode": {
    "name": "ipython",
    "version": 3
   },
   "file_extension": ".py",
   "mimetype": "text/x-python",
   "name": "python",
   "nbconvert_exporter": "python",
   "pygments_lexer": "ipython3",
   "version": "3.7.3"
  }
 },
 "nbformat": 4,
 "nbformat_minor": 4
}
