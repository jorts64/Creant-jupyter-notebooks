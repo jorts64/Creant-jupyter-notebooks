{
 "cells": [
  {
   "cell_type": "markdown",
   "metadata": {},
   "source": [
    "De https://pythonforundergradengineers.com/stress-strain-curve-with-python-and-matpotlib.html i https://github.com/ProfessorKazarinoff/staticsite/blob/master/content/code/matplotlib_plots/stress_strain_curve_in_jupyter_notebook.ipynb"
   ]
  },
  {
   "cell_type": "code",
   "execution_count": 2,
   "metadata": {},
   "outputs": [
    {
     "name": "stdout",
     "output_type": "stream",
     "text": [
      "NumPy version: 1.16.2\n",
      "Pandas version: 1.1.1\n"
     ]
    }
   ],
   "source": [
    "import numpy as np\n",
    "import pandas as pd\n",
    "import matplotlib.pyplot as plt\n",
    "%matplotlib inline\n",
    "\n",
    "print(\"NumPy version:\",np.__version__)\n",
    "print(\"Pandas version:\",pd.__version__)\n"
   ]
  },
  {
   "cell_type": "code",
   "execution_count": 4,
   "metadata": {},
   "outputs": [
    {
     "name": "stdout",
     "output_type": "stream",
     "text": [
      "WARNING *** OLE2 inconsistency: SSCS size is 0 but SSAT size is non-zero\n",
      "WARNING *** OLE2 inconsistency: SSCS size is 0 but SSAT size is non-zero\n"
     ]
    }
   ],
   "source": [
    "steel_df = pd.read_excel(\"steel1045.xls\")\n",
    "al_df = pd.read_excel(\"aluminum6061.xls\")"
   ]
  },
  {
   "cell_type": "code",
   "execution_count": 5,
   "metadata": {},
   "outputs": [
    {
     "data": {
      "text/html": [
       "<div>\n",
       "<style scoped>\n",
       "    .dataframe tbody tr th:only-of-type {\n",
       "        vertical-align: middle;\n",
       "    }\n",
       "\n",
       "    .dataframe tbody tr th {\n",
       "        vertical-align: top;\n",
       "    }\n",
       "\n",
       "    .dataframe thead th {\n",
       "        text-align: right;\n",
       "    }\n",
       "</style>\n",
       "<table border=\"1\" class=\"dataframe\">\n",
       "  <thead>\n",
       "    <tr style=\"text-align: right;\">\n",
       "      <th></th>\n",
       "      <th>TESTNUM</th>\n",
       "      <th>POINTNUM</th>\n",
       "      <th>TIME</th>\n",
       "      <th>POSIT</th>\n",
       "      <th>FORCE</th>\n",
       "      <th>EXT</th>\n",
       "      <th>CH5</th>\n",
       "      <th>CH6</th>\n",
       "      <th>CH7</th>\n",
       "      <th>CH8</th>\n",
       "    </tr>\n",
       "  </thead>\n",
       "  <tbody>\n",
       "    <tr>\n",
       "      <th>0</th>\n",
       "      <td>762</td>\n",
       "      <td>1</td>\n",
       "      <td>5.969</td>\n",
       "      <td>0.01284</td>\n",
       "      <td>201.030792</td>\n",
       "      <td>0.001572</td>\n",
       "      <td>-0.007133</td>\n",
       "      <td>NaN</td>\n",
       "      <td>NaN</td>\n",
       "      <td>NaN</td>\n",
       "    </tr>\n",
       "    <tr>\n",
       "      <th>1</th>\n",
       "      <td>762</td>\n",
       "      <td>2</td>\n",
       "      <td>6.242</td>\n",
       "      <td>0.01392</td>\n",
       "      <td>215.235886</td>\n",
       "      <td>0.000009</td>\n",
       "      <td>-0.014581</td>\n",
       "      <td>NaN</td>\n",
       "      <td>NaN</td>\n",
       "      <td>NaN</td>\n",
       "    </tr>\n",
       "    <tr>\n",
       "      <th>2</th>\n",
       "      <td>762</td>\n",
       "      <td>3</td>\n",
       "      <td>6.936</td>\n",
       "      <td>0.01646</td>\n",
       "      <td>246.816742</td>\n",
       "      <td>-0.000832</td>\n",
       "      <td>0.006942</td>\n",
       "      <td>NaN</td>\n",
       "      <td>NaN</td>\n",
       "      <td>NaN</td>\n",
       "    </tr>\n",
       "    <tr>\n",
       "      <th>3</th>\n",
       "      <td>762</td>\n",
       "      <td>4</td>\n",
       "      <td>8.632</td>\n",
       "      <td>0.02340</td>\n",
       "      <td>371.870361</td>\n",
       "      <td>0.002203</td>\n",
       "      <td>0.000776</td>\n",
       "      <td>NaN</td>\n",
       "      <td>NaN</td>\n",
       "      <td>NaN</td>\n",
       "    </tr>\n",
       "    <tr>\n",
       "      <th>4</th>\n",
       "      <td>762</td>\n",
       "      <td>5</td>\n",
       "      <td>10.533</td>\n",
       "      <td>0.03110</td>\n",
       "      <td>502.501862</td>\n",
       "      <td>0.001481</td>\n",
       "      <td>0.018102</td>\n",
       "      <td>NaN</td>\n",
       "      <td>NaN</td>\n",
       "      <td>NaN</td>\n",
       "    </tr>\n",
       "  </tbody>\n",
       "</table>\n",
       "</div>"
      ],
      "text/plain": [
       "   TESTNUM  POINTNUM    TIME    POSIT       FORCE       EXT       CH5  CH6  \\\n",
       "0      762         1   5.969  0.01284  201.030792  0.001572 -0.007133  NaN   \n",
       "1      762         2   6.242  0.01392  215.235886  0.000009 -0.014581  NaN   \n",
       "2      762         3   6.936  0.01646  246.816742 -0.000832  0.006942  NaN   \n",
       "3      762         4   8.632  0.02340  371.870361  0.002203  0.000776  NaN   \n",
       "4      762         5  10.533  0.03110  502.501862  0.001481  0.018102  NaN   \n",
       "\n",
       "   CH7  CH8  \n",
       "0  NaN  NaN  \n",
       "1  NaN  NaN  \n",
       "2  NaN  NaN  \n",
       "3  NaN  NaN  \n",
       "4  NaN  NaN  "
      ]
     },
     "execution_count": 5,
     "metadata": {},
     "output_type": "execute_result"
    }
   ],
   "source": [
    "steel_df.head()"
   ]
  },
  {
   "cell_type": "code",
   "execution_count": 6,
   "metadata": {},
   "outputs": [
    {
     "data": {
      "text/html": [
       "<div>\n",
       "<style scoped>\n",
       "    .dataframe tbody tr th:only-of-type {\n",
       "        vertical-align: middle;\n",
       "    }\n",
       "\n",
       "    .dataframe tbody tr th {\n",
       "        vertical-align: top;\n",
       "    }\n",
       "\n",
       "    .dataframe thead th {\n",
       "        text-align: right;\n",
       "    }\n",
       "</style>\n",
       "<table border=\"1\" class=\"dataframe\">\n",
       "  <thead>\n",
       "    <tr style=\"text-align: right;\">\n",
       "      <th></th>\n",
       "      <th>TESTNUM</th>\n",
       "      <th>POINTNUM</th>\n",
       "      <th>TIME</th>\n",
       "      <th>POSIT</th>\n",
       "      <th>FORCE</th>\n",
       "      <th>EXT</th>\n",
       "      <th>CH5</th>\n",
       "      <th>CH6</th>\n",
       "      <th>CH7</th>\n",
       "      <th>CH8</th>\n",
       "    </tr>\n",
       "  </thead>\n",
       "  <tbody>\n",
       "    <tr>\n",
       "      <th>0</th>\n",
       "      <td>761</td>\n",
       "      <td>1</td>\n",
       "      <td>6.532</td>\n",
       "      <td>0.01524</td>\n",
       "      <td>201.158508</td>\n",
       "      <td>0.018893</td>\n",
       "      <td>-0.023081</td>\n",
       "      <td>NaN</td>\n",
       "      <td>NaN</td>\n",
       "      <td>NaN</td>\n",
       "    </tr>\n",
       "    <tr>\n",
       "      <th>1</th>\n",
       "      <td>761</td>\n",
       "      <td>2</td>\n",
       "      <td>6.702</td>\n",
       "      <td>0.01600</td>\n",
       "      <td>205.978119</td>\n",
       "      <td>0.000265</td>\n",
       "      <td>-0.013024</td>\n",
       "      <td>NaN</td>\n",
       "      <td>NaN</td>\n",
       "      <td>NaN</td>\n",
       "    </tr>\n",
       "    <tr>\n",
       "      <th>2</th>\n",
       "      <td>761</td>\n",
       "      <td>3</td>\n",
       "      <td>7.098</td>\n",
       "      <td>0.01720</td>\n",
       "      <td>219.295441</td>\n",
       "      <td>-0.000877</td>\n",
       "      <td>-0.024879</td>\n",
       "      <td>NaN</td>\n",
       "      <td>NaN</td>\n",
       "      <td>NaN</td>\n",
       "    </tr>\n",
       "    <tr>\n",
       "      <th>3</th>\n",
       "      <td>761</td>\n",
       "      <td>4</td>\n",
       "      <td>8.697</td>\n",
       "      <td>0.02350</td>\n",
       "      <td>268.505890</td>\n",
       "      <td>0.001453</td>\n",
       "      <td>-0.006798</td>\n",
       "      <td>NaN</td>\n",
       "      <td>NaN</td>\n",
       "      <td>NaN</td>\n",
       "    </tr>\n",
       "    <tr>\n",
       "      <th>4</th>\n",
       "      <td>761</td>\n",
       "      <td>5</td>\n",
       "      <td>10.196</td>\n",
       "      <td>0.03004</td>\n",
       "      <td>322.028168</td>\n",
       "      <td>0.001865</td>\n",
       "      <td>0.012563</td>\n",
       "      <td>NaN</td>\n",
       "      <td>NaN</td>\n",
       "      <td>NaN</td>\n",
       "    </tr>\n",
       "  </tbody>\n",
       "</table>\n",
       "</div>"
      ],
      "text/plain": [
       "   TESTNUM  POINTNUM    TIME    POSIT       FORCE       EXT       CH5  CH6  \\\n",
       "0      761         1   6.532  0.01524  201.158508  0.018893 -0.023081  NaN   \n",
       "1      761         2   6.702  0.01600  205.978119  0.000265 -0.013024  NaN   \n",
       "2      761         3   7.098  0.01720  219.295441 -0.000877 -0.024879  NaN   \n",
       "3      761         4   8.697  0.02350  268.505890  0.001453 -0.006798  NaN   \n",
       "4      761         5  10.196  0.03004  322.028168  0.001865  0.012563  NaN   \n",
       "\n",
       "   CH7  CH8  \n",
       "0  NaN  NaN  \n",
       "1  NaN  NaN  \n",
       "2  NaN  NaN  \n",
       "3  NaN  NaN  \n",
       "4  NaN  NaN  "
      ]
     },
     "execution_count": 6,
     "metadata": {},
     "output_type": "execute_result"
    }
   ],
   "source": [
    "al_df.head()"
   ]
  },
  {
   "cell_type": "code",
   "execution_count": 7,
   "metadata": {},
   "outputs": [],
   "source": [
    "strain_steel = steel_df['CH5']*0.01\n",
    "d_steel = 0.506    # test bar diameter = 0.506 inches\n",
    "stress_steel = (steel_df['FORCE']*0.001)/(np.pi*((d_steel/2)**2))\n",
    "\n",
    "strain_al = al_df['CH5']*0.01\n",
    "d_al = 0.506       # test bar diameter = 0.506 inches\n",
    "stress_al = (al_df['FORCE']*0.001)/(np.pi*((d_al/2)**2))"
   ]
  },
  {
   "cell_type": "code",
   "execution_count": 8,
   "metadata": {},
   "outputs": [
    {
     "name": "stderr",
     "output_type": "stream",
     "text": [
      "/usr/lib/python3/dist-packages/matplotlib/cbook/__init__.py:1377: FutureWarning: Support for multi-dimensional indexing (e.g. `obj[:, None]`) is deprecated and will be removed in a future version.  Convert to a numpy array before indexing instead.\n",
      "  x[:, None]\n",
      "/usr/lib/python3/dist-packages/matplotlib/axes/_base.py:237: FutureWarning: Support for multi-dimensional indexing (e.g. `obj[:, None]`) is deprecated and will be removed in a future version.  Convert to a numpy array before indexing instead.\n",
      "  x = x[:, np.newaxis]\n",
      "/usr/lib/python3/dist-packages/matplotlib/axes/_base.py:239: FutureWarning: Support for multi-dimensional indexing (e.g. `obj[:, None]`) is deprecated and will be removed in a future version.  Convert to a numpy array before indexing instead.\n",
      "  y = y[:, np.newaxis]\n"
     ]
    },
    {
     "data": {
      "image/png": "[encoded data removed]",
      "text/plain": [
       "<Figure size 432x288 with 1 Axes>"
      ]
     },
     "metadata": {
      "needs_background": "light"
     },
     "output_type": "display_data"
    }
   ],
   "source": [
    "plt.plot(strain_steel,stress_steel,strain_al,stress_al)\n",
    "\n",
    "plt.show()"
   ]
  },
  {
   "cell_type": "code",
   "execution_count": 9,
   "metadata": {},
   "outputs": [
    {
     "data": {
      "image/png": "[encoded data removed]",
      "text/plain": [
       "<Figure size 432x288 with 1 Axes>"
      ]
     },
     "metadata": {
      "needs_background": "light"
     },
     "output_type": "display_data"
    }
   ],
   "source": [
    "plt.plot(strain_steel,stress_steel,strain_al,stress_al)\n",
    "plt.xlabel('strain (in/in)')\n",
    "plt.ylabel('stress (ksi)')\n",
    "plt.title('Stress Strain Curve of Steel 1045 and Aluminum 6061 in tension')\n",
    "plt.legend(['Steel 1045','Aluminum 6061'])\n",
    "\n",
    "plt.show()"
   ]
  },
  {
   "cell_type": "code",
   "execution_count": null,
   "metadata": {},
   "outputs": [],
   "source": []
  }
 ],
 "metadata": {
  "kernelspec": {
   "display_name": "Python 3",
   "language": "python",
   "name": "python3"
  },
  "language_info": {
   "codemirror_mode": {
    "name": "ipython",
    "version": 3
   },
   "file_extension": ".py",
   "mimetype": "text/x-python",
   "name": "python",
   "nbconvert_exporter": "python",
   "pygments_lexer": "ipython3",
   "version": "3.7.3"
  }
 },
 "nbformat": 4,
 "nbformat_minor": 4
}
