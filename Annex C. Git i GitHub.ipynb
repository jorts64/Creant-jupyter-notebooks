{
 "cells": [
  {
   "cell_type": "markdown",
   "metadata": {},
   "source": [
    "# Git i GitHub"
   ]
  },
  {
   "cell_type": "markdown",
   "metadata": {},
   "source": [
    "> Git és un programari de sistema de control de versions dissenyat per Linus Torvalds, pensat en l'eficiència i confiabilitat de manteniment de versions d'aplicacions amb una enorme quantitat de fitxers de codi font. \n",
    "\n",
    "*Col·laboradors de la Viquipèdia. Git [en línia]. Viquipèdia, l'Enciclopèdia Lliure, 2020 [data de consulta: 6 de juliol del 2020]. Disponible en <//ca.wikipedia.org/w/index.php?title=Git&oldid=23991877>.*\n",
    "\n",
    "> GitHub és un servei de hosting de repositoris Git, el qual ofereix tota la funcionalitat de Git de control de revisió distribuït i administració de codi de la font (SCM) així com afegint les seves característiques pròpies. A diferència de Git, el qual és estrictament una eina de línia d'ordres, GitHub proporciona una interfície gràfica basada en web i escriptori així com integració del mòbil. També proporciona control d'accés i diverses característiques de col·laboració com bug tracking, administració de tasques, i wikis per cada projecte.\n",
    "\n",
    "*Col·laboradors de la Viquipèdia. GitHub [en línia]. Viquipèdia, l'Enciclopèdia Lliure, 2020 [data de consulta: 16 de maig del 2020]. Disponible en <//ca.wikipedia.org/w/index.php?title=GitHub&oldid=23546415>.*"
   ]
  },
  {
   "cell_type": "markdown",
   "metadata": {},
   "source": [
    "A http://rogerdudler.github.io/git-guide/ trobarem una guía molt senzilla sobre el treball amb *GitHub* amb *git*\n",
    "\n",
    "trobareu una explicació més detallada a https://blog.desdelinux.net/guia-rapida-para-utilizar-github/"
   ]
  },
  {
   "cell_type": "markdown",
   "metadata": {},
   "source": [
    "Aquest tutorial en català de *git* és molt recomanable: https://ca.wikibooks.org/wiki/Tutorial_de_git"
   ]
  },
  {
   "cell_type": "code",
   "execution_count": 1,
   "metadata": {},
   "outputs": [
    {
     "data": {
      "text/html": [
       "./<br>\n",
       "&nbsp;&nbsp;<a href='./1. Introducció.ipynb' target='_blank'>1. Introducció.ipynb</a><br>\n",
       "&nbsp;&nbsp;<a href='./3. Instal·lació de jupyter notebook.ipynb' target='_blank'>3. Instal·lació de jupyter notebook.ipynb</a><br>\n",
       "&nbsp;&nbsp;<a href='./càlcul científic amb python.ipynb' target='_blank'>càlcul científic amb python.ipynb</a><br>\n",
       "&nbsp;&nbsp;<a href='./Annex B. Latex.ipynb' target='_blank'>Annex B. Latex.ipynb</a><br>\n",
       "&nbsp;&nbsp;<a href='./4. Compartint els nostres documents amb GitHub i Binder.ipynb' target='_blank'>4. Compartint els nostres documents amb GitHub i Binder.ipynb</a><br>\n",
       "&nbsp;&nbsp;<a href='./Exemple1 - Resolució problema PAU.ipynb' target='_blank'>Exemple1 - Resolució problema PAU.ipynb</a><br>\n",
       "&nbsp;&nbsp;<a href='./Annex C. Git i GitHub.ipynb' target='_blank'>Annex C. Git i GitHub.ipynb</a><br>\n",
       "&nbsp;&nbsp;<a href='./Accelerant el càlcul científic.ipynb' target='_blank'>Accelerant el càlcul científic.ipynb</a><br>\n",
       "&nbsp;&nbsp;<a href='./2. L'entorn jupyter notebook.ipynb' target='_blank'>2. L'entorn jupyter notebook.ipynb</a><br>\n",
       "&nbsp;&nbsp;<a href='./README.md' target='_blank'>README.md</a><br>\n",
       "&nbsp;&nbsp;<a href='./Annex A. Markdown.ipynb' target='_blank'>Annex A. Markdown.ipynb</a><br>\n",
       "&nbsp;&nbsp;<a href='./LICENSE' target='_blank'>LICENSE</a><br>"
      ],
      "text/plain": [
       "./\n",
       "  1. Introducció.ipynb\n",
       "  3. Instal·lació de jupyter notebook.ipynb\n",
       "  càlcul científic amb python.ipynb\n",
       "  Annex B. Latex.ipynb\n",
       "  4. Compartint els nostres documents amb GitHub i Binder.ipynb\n",
       "  Exemple1 - Resolució problema PAU.ipynb\n",
       "  Annex C. Git i GitHub.ipynb\n",
       "  Accelerant el càlcul científic.ipynb\n",
       "  2. L'entorn jupyter notebook.ipynb\n",
       "  README.md\n",
       "  Annex A. Markdown.ipynb\n",
       "  LICENSE"
      ]
     },
     "execution_count": 1,
     "metadata": {},
     "output_type": "execute_result"
    }
   ],
   "source": [
    "from IPython.display import FileLink, FileLinks\n",
    "FileLinks('.', recursive=False)"
   ]
  },
  {
   "cell_type": "code",
   "execution_count": null,
   "metadata": {},
   "outputs": [],
   "source": []
  }
 ],
 "metadata": {
  "kernelspec": {
   "display_name": "Python 3",
   "language": "python",
   "name": "python3"
  },
  "language_info": {
   "codemirror_mode": {
    "name": "ipython",
    "version": 3
   },
   "file_extension": ".py",
   "mimetype": "text/x-python",
   "name": "python",
   "nbconvert_exporter": "python",
   "pygments_lexer": "ipython3",
   "version": "3.7.3"
  }
 },
 "nbformat": 4,
 "nbformat_minor": 4
}
